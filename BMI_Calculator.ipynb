{
  "nbformat": 4,
  "nbformat_minor": 0,
  "metadata": {
    "colab": {
      "name": "BMI_Calculator.ipynb",
      "provenance": [],
      "collapsed_sections": []
    },
    "kernelspec": {
      "name": "python3",
      "display_name": "Python 3"
    },
    "language_info": {
      "name": "python"
    }
  },
  "cells": [
    {
      "cell_type": "code",
      "execution_count": 13,
      "metadata": {
        "colab": {
          "base_uri": "https://localhost:8080/"
        },
        "id": "l2I2Zecek8wO",
        "outputId": "5ba7e720-e375-43bd-9e91-d44ea68af71b"
      },
      "outputs": [
        {
          "output_type": "stream",
          "name": "stdout",
          "text": [
            "[{'Gender': 'Male', 'HeightCm': 171, 'WeightKg': 96, 'BMI_categoty': 'Moderately obese', 'BMI_range': 32.83061454806607, 'Health_risk': 'Medium Risk'}, {'Gender': 'Male', 'HeightCm': 161, 'WeightKg': 85, 'BMI_categoty': 'Moderately obese', 'BMI_range': 32.79194475521777, 'Health_risk': 'Medium Risk'}, {'Gender': 'Male', 'HeightCm': 180, 'WeightKg': 77, 'BMI_categoty': 'Normal Weight', 'BMI_range': 23.76543209876543, 'Health_risk': 'Low Risk'}, {'Gender': 'Female', 'HeightCm': 166, 'WeightKg': 62, 'BMI_categoty': 'Normal Weight', 'BMI_range': 22.49963710262738, 'Health_risk': 'Low Risk'}, {'Gender': 'Female', 'HeightCm': 150, 'WeightKg': 70, 'BMI_categoty': 'Moderately obese', 'BMI_range': 31.11111111111111, 'Health_risk': 'Medium Risk'}, {'Gender': 'Female', 'HeightCm': 167, 'WeightKg': 82, 'BMI_categoty': 'Over Weight', 'BMI_range': 29.402273297715947, 'Health_risk': 'Enhanced Risk'}]\n"
          ]
        }
      ],
      "source": [
        "import json\n",
        "\n",
        "def bmi_calculator(data):\n",
        "    BMI_categoty= None\n",
        "    Health_risk= None\n",
        "    BMI_range = None\n",
        "    x =int(data[1])\n",
        "    y = int(data[2])\n",
        "    bmi = y/((x/100)**2)\n",
        "    if bmi <= 18.4 :\n",
        "        BMI_categoty = 'Underweight'\n",
        "        BMI_range = bmi\n",
        "        Health_risk = 'Malnutrition Risk'\n",
        "    elif bmi >=18.5 and bmi <= 24.9:\n",
        "        BMI_categoty = 'Normal Weight'\n",
        "        BMI_range = bmi\n",
        "        Health_risk = 'Low Risk'\n",
        "    elif bmi >=25 and bmi <= 29.9:\n",
        "        BMI_categoty = \"Over Weight\"\n",
        "        BMI_range = bmi\n",
        "        Health_risk = 'Enhanced Risk'\n",
        "    elif bmi >=30 and bmi <= 34.9:\n",
        "        BMI_categoty = \"Moderately obese\"\n",
        "        BMI_range = bmi\n",
        "        Health_risk = 'Medium Risk'\n",
        "    elif bmi >= 35 and bmi <= 39.9:\n",
        "        BMI_categoty = \"Severly obese\"\n",
        "        BMI_range = bmi\n",
        "        Health_risk = 'High Risk'\n",
        "    elif bmi > 40:\n",
        "        BMI_categoty = \"Very Severly obese\"\n",
        "        BMI_range = bmi\n",
        "        Health_risk = 'Very High Risk'\n",
        "    Outputs =[BMI_categoty,BMI_range,Health_risk]\n",
        "    return Outputs\n",
        "\n",
        "def read_data():\n",
        "  # Opening JSON file\n",
        "  f = open('Input.json')\n",
        "  # returns JSON object as a dictionary\n",
        "  data = json.load(f)\n",
        "   \n",
        "  # Iterating through the json list\n",
        "  Input_data=[]\n",
        "  for i in data:\n",
        "    temp_data=[]\n",
        "    #Check for valid values for a larger data file\n",
        "    dictValues=list(i.values())\n",
        "    if (dictValues[0].isalpha() == True and str(dictValues[1]).isnumeric() == True and str(dictValues[2]).isnumeric() == True):\n",
        "      for k,v in i.items():\n",
        "        temp_data.append(v)\n",
        "      Input_data.append(temp_data)\n",
        "  return Input_data\n",
        "\n",
        "def update_data(Input_data):\n",
        "  updatedData=[]\n",
        "  for row in Input_data:\n",
        "    NewColumns_toAdd = bmi_calculator(row)\n",
        "    # Data to be written\n",
        "    dictionary ={\n",
        "    \"Gender\" : row[0],\n",
        "    \"HeightCm\" : row[1],\n",
        "    \"WeightKg\" : row[2],\n",
        "    \"BMI_categoty\" : NewColumns_toAdd[0],\n",
        "    \"BMI_range\" : NewColumns_toAdd[1],\n",
        "    \"Health_risk\" : NewColumns_toAdd[2]\n",
        "     }\n",
        "    updatedData.append(dictionary)\n",
        "  return updatedData\n",
        "\n",
        "if __name__ == '__main__':\n",
        "\n",
        "  ## Read data from given JSON input file ##\n",
        "  Input_data = read_data()\n",
        "\n",
        "  ## Update data:- Calculate the BMI (Body Mass Index) and add them as three columns ##\n",
        "  Output_data = update_data(Input_data)\n",
        "  print(Output_data)\n",
        "\n",
        "  ## Save data to JSON ##\n",
        "  with open(\"Output.json\", \"w\") as outfile:\n",
        "    json.dump(Output_data, outfile)"
      ]
    }
  ]
}